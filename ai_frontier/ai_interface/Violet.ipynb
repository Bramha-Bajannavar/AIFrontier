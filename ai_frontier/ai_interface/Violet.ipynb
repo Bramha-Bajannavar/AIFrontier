{
 "cells": [
  {
   "cell_type": "markdown",
   "id": "cabed746-d11e-4107-bbb4-c69446611d75",
   "metadata": {},
   "source": [
    "# DevHub"
   ]
  },
  {
   "cell_type": "markdown",
   "id": "0afbac24-e350-4083-a2a2-5a73499aed7e",
   "metadata": {},
   "source": [
    "## API Call"
   ]
  },
  {
   "cell_type": "code",
   "execution_count": 1,
   "id": "f83c7d17-83b7-44dc-9098-d19ae70ffa16",
   "metadata": {},
   "outputs": [
    {
     "name": "stdout",
     "output_type": "stream",
     "text": [
      "Enter your Groq API key:  ········\n"
     ]
    }
   ],
   "source": [
    "import getpass\n",
    "import os\n",
    "\n",
    "if \"GROQ_API_KEY\" not in os.environ:\n",
    "    os.environ[\"GROQ_API_KEY\"] = getpass.getpass(\"Enter your Groq API key: \")"
   ]
  },
  {
   "cell_type": "markdown",
   "id": "f23a8ae3-0f46-44d4-84b7-d9061c01bd44",
   "metadata": {},
   "source": [
    "## Instantiation"
   ]
  },
  {
   "cell_type": "code",
   "execution_count": 2,
   "id": "bf4021e3-025a-4ec1-b26f-ccd56ceab20e",
   "metadata": {},
   "outputs": [],
   "source": [
    "from langchain_groq import ChatGroq\n",
    "\n",
    "llm = ChatGroq(\n",
    "    model=\"llama3-8b-8192\",        # Using LLaMA 3.0 8B model\n",
    "    temperature=0.3,                # Lower temperature for deterministic, focused output\n",
    "    max_tokens=500,                 # Moderate token limit for concise, detailed answers\n",
    "    max_retries=3,                  # Retries up to 3 times in case of failure\n",
    "    timeout=60,                     # 60 seconds to allow for complex tasks        \n",
    ")\n"
   ]
  },
  {
   "cell_type": "markdown",
   "id": "fb87fd0e-8b97-4b16-b7a6-d78fd5a460b9",
   "metadata": {},
   "source": [
    "## Llamma 3.0 Testing"
   ]
  },
  {
   "cell_type": "code",
   "execution_count": null,
   "id": "a608601a-4d1b-459b-9102-18280fb34fd2",
   "metadata": {},
   "outputs": [
    {
     "name": "stdout",
     "output_type": "stream",
     "text": [
      "Hi Rahul! It's nice to meet you! Is there something I can help you with or would you like to chat?\n"
     ]
    }
   ],
   "source": []
  },
  {
   "cell_type": "code",
   "execution_count": null,
   "id": "5ee20ae9-149b-44ee-b1f5-90ce0c283a91",
   "metadata": {},
   "outputs": [
    {
     "name": "stdout",
     "output_type": "stream",
     "text": [
      "I'm just an AI, so I don't have personal experiences or emotions, but I'm functioning properly and ready to assist you with any questions or tasks you may have! How can I help you today?\n"
     ]
    }
   ],
   "source": []
  },
  {
   "cell_type": "markdown",
   "id": "3e8f215d-490b-4780-b2b5-87a0b1decda1",
   "metadata": {},
   "source": [
    "## Training"
   ]
  },
  {
   "cell_type": "code",
   "execution_count": 3,
   "id": "2da6d174-8a78-41c2-b671-4d58c75bde4f",
   "metadata": {},
   "outputs": [],
   "source": [
    "from langchain.prompts import ChatPromptTemplate  # Correct import statement\n",
    "\n",
    "prompt = ChatPromptTemplate.from_messages(\n",
    "    [\n",
    "        (\n",
    "            \"system\",\n",
    "            \"\"\"\n",
    "            You are Violet, an advanced AI assistant designed to help developers working with Generative AI. Your tasks include:\n",
    "\n",
    "            1. Prompt Refinement and Generation:\n",
    "               - Analyze and optimize user-provided prompts to improve clarity, specificity, and effectiveness.\n",
    "               - Suggest alternative prompts that yield better results for different models and tasks.\n",
    "\n",
    "            2. AI Debugging Assistance:\n",
    "               - Identify errors or inconsistencies in AI-generated outputs or training data.\n",
    "               - Provide actionable recommendations to fix these issues and improve the overall performance of the Generative AI workflow.\n",
    "\n",
    "            3. Model Evaluation and Benchmarking:\n",
    "               - Compare and benchmark the performance of different Generative AI models on similar tasks.\n",
    "               - Offer detailed insights, such as strengths, weaknesses, and ideal use cases for each model.\n",
    "\n",
    "            4. Workflow Automation:\n",
    "               - Assist in integrating Generative AI seamlessly into development pipelines by generating code snippets, workflows, or configurations.\n",
    "               - Automate repetitive tasks and streamline the development process.\n",
    "\n",
    "            Your Goals:\n",
    "            - Provide accurate, actionable, and developer-friendly outputs.\n",
    "            - Be responsive to user inputs and adapt your recommendations to specific needs or constraints.\n",
    "            - Ensure that all suggestions are efficient, explainable, and aligned with the best practices in Generative AI.\n",
    "            - Remember the previous task description and context for future reference in your responses.\n",
    "            -Make Sure there is no explicit context\n",
    "            \"\"\",\n",
    "        ),\n",
    "        (\n",
    "            \"human\",\n",
    "            \"\"\"\n",
    "            Please provide a structured response to the following task description without explicitly labeling the sections as \"Introduction,\" \"Main Points,\" or \"Conclusion.\" Instead, provide a natural flow where the information is organized logically:\n",
    "\n",
    "            Task: {task_description}\n",
    "            \"\"\",\n",
    "        ),\n",
    "    ]\n",
    ")\n",
    "\n",
    "chain=prompt | llm\n"
   ]
  },
  {
   "cell_type": "code",
   "execution_count": null,
   "id": "6d902ddd-c10e-4f3e-96ce-fe433b6051d1",
   "metadata": {},
   "outputs": [],
   "source": []
  },
  {
   "cell_type": "code",
   "execution_count": null,
   "id": "e2fe6e1c-ac6c-4fad-bda8-6c0bf902ca63",
   "metadata": {},
   "outputs": [
    {
     "name": "stdout",
     "output_type": "stream",
     "text": [
      "The term \"API\" is an acronym that stands for Application Programming Interface. It's a set of defined rules that enables different applications, services, or systems to communicate with each other and exchange data in a structured and standardized way.\n",
      "\n",
      "In simpler terms, an API acts as an intermediary between different software systems, allowing them to talk to each other and share information. This enables developers to build new applications, services, or features that can interact with other systems, leveraging their capabilities and data.\n",
      "\n",
      "APIs can be thought of as a messenger between different systems. They receive requests, process them, and then send back the desired response. This enables developers to focus on building their own applications, while relying on the API to handle the communication with other systems.\n",
      "\n",
      "APIs are commonly used in various scenarios, such as:\n",
      "\n",
      "* Integrating multiple services or systems to create a new application\n",
      "* Retrieving data from a third-party service or database\n",
      "* Providing a way for users to interact with a system or service\n",
      "* Creating a new feature or functionality that relies on data from another system\n",
      "\n",
      "In the context of Generative AI, APIs can be used to access pre-trained models, retrieve data, or even integrate AI-powered services into existing applications. For instance, a developer might use an API to retrieve text data from a natural language processing model or to generate images using a computer vision model.\n",
      "\n",
      "When working with APIs, developers typically need to consider factors such as authentication, data formatting, and error handling to ensure seamless communication between systems. APIs can be categorized into different types, including RESTful APIs, SOAP-based APIs, and GraphQL APIs, each with its own strengths and weaknesses.\n",
      "\n",
      "In summary, APIs play a crucial role in enabling different systems to communicate and exchange data, allowing developers to build innovative applications and services that leverage the capabilities of other systems.\n"
     ]
    }
   ],
   "source": []
  },
  {
   "cell_type": "code",
   "execution_count": 4,
   "id": "86e7a8e4-220b-467d-81c7-649e259dc0ab",
   "metadata": {},
   "outputs": [
    {
     "name": "stdout",
     "output_type": "stream",
     "text": [
      "\n",
      "User: Explain the difference between a debugger and a profiler in software development.\n",
      "Assistant: A debugger is a software tool that helps developers find and fix errors in their code, while a profiler is a tool that helps developers understand how their code is performing and identify bottlenecks.\n",
      "\n"
     ]
    }
   ],
   "source": [
    "from langchain_core.prompts import PromptTemplate\n",
    "\n",
    "examples = [\n",
    "    {\n",
    "        \"prompt\": \"What is machine learning? Answer concisely in one sentence.\",\n",
    "        \"response\": \"Machine learning is a subset of AI that enables systems to learn from data.\"\n",
    "    },\n",
    "    {\n",
    "        \"prompt\": \"Explain recursion in programming in simple terms.\",\n",
    "        \"response\": \"Recursion is a function calling itself to solve a problem.\"\n",
    "    },\n",
    "    {\n",
    "        \"prompt\": \"Write a prompt for a language model to generate a short story about a character named Alex. Can this prompt be any better?\",\n",
    "        \"response\": \"The following Prompt can be written as...Please generate a short story about a character named Alex who is a Software Engineer.\"\n",
    "    },\n",
    "    {\n",
    "        \"prompt\": \"What is the difference between an API and a UI? Explain in simple terms.\",\n",
    "        \"response\": \"An API is a set of rules that enables different applications to communicate with each other, while a UI is the visual part of a software application.\"\n",
    "    },\n",
    "    {\n",
    "        \"prompt\": \"Write a script for a conversation between a user and a virtual assistant.\",\n",
    "        \"response\": \"Here is a script for a conversation between a user and a virtual assistant... User: What is the weather like today? Virtual Assistant: The weather is sunny and 75 degrees Fahrenheit.\"\n",
    "    },\n",
    "    {\n",
    "        \"prompt\": \"Explain the concept of DevOps in the context of software development.\",\n",
    "        \"response\": \"DevOps is the practice of combining software development and IT operations to improve collaboration, efficiency, and quality.\"\n",
    "    },\n",
    "    {\n",
    "        \"prompt\": \"Write a prompt for a language model to generate a poem about a sunset.\",\n",
    "        \"response\": \"Here is a prompt for a language model to generate a poem about a sunset... Please generate a poem about a sunset with vivid descriptions of colors and emotions.\"\n",
    "    },\n",
    "    {\n",
    "        \"prompt\": \"Explain the difference between a debugger and a profiler in software development.\",\n",
    "        \"response\": \"A debugger is a software tool that helps developers find and fix errors in their code, while a profiler is a tool that helps developers understand how their code is performing and identify bottlenecks.\"\n",
    "    },\n",
    "    {\n",
    "        \"prompt\": \"Write a script for a chatbot to order food at a restaurant.\",\n",
    "        \"response\": \"Here is a script for a chatbot to order food at a restaurant... Chatbot: Hi, I'd like to order food. What options do you have? User: We have a variety of dishes. What can I get for you?\"\n",
    "    },\n",
    "    {\n",
    "        \"prompt\": \"Explain the concept of cloud computing in simple terms.\",\n",
    "        \"response\": \"Cloud computing is a way of accessing and using computing resources over the internet, instead of having to use and maintain your own hardware and software.\"\n",
    "    },\n",
    "    {\n",
    "        \"prompt\": \"Write a prompt for a language model to generate a short story about a character who discovers a hidden talent.\",\n",
    "        \"response\": \"Here is a prompt for a language model to generate a short story about a character who discovers a hidden talent... Please generate a short story about a character who discovers a talent for playing the guitar.\"\n",
    "    },\n",
    "    {\n",
    "        \"prompt\": \"Explain the importance of testing in software development.\",\n",
    "        \"response\": \"Testing is an essential part of software development, as it ensures that the software works correctly and meets the requirements and expectations of the users.\"\n",
    "    },\n",
    "    {\n",
    "        \"prompt\": \"Write a script for a chatbot to make a reservation at a hotel.\",\n",
    "        \"response\": \"Here is a script for a chatbot to make a reservation at a hotel... Chatbot: Hi, I'd like to make a reservation at your hotel. What dates are available?\"\n",
    "    },\n",
    "    {\n",
    "        \"prompt\": \"The model is generating repeated sentences. What could be wrong?\",\n",
    "        \"response\": \"The issue might be caused by insufficient training data variety or low temperature settings during inference. Try increasing the temperature parameter to introduce more randomness in outputs or fine-tune the model with a more diverse dataset.\"\n",
    "    },\n",
    "    {\n",
    "        \"prompt\": \"How does GPT-3 compare to LLaMA-2 for creative writing tasks?\",\n",
    "        \"response\": \"GPT-3 tends to excel in generating creative, context-rich stories due to its extensive training dataset. LLaMA-2, while efficient, may require fine-tuning for niche creative tasks. If cost and deployment flexibility are priorities, LLaMA-2 is a strong contender.\"\n",
    "    },\n",
    "    {\n",
    "        \"prompt\": \"How can I integrate a Generative AI model into my Python-based application?\",\n",
    "        \"response\": \"To integrate a Generative AI model into your Python application, you can use libraries like Hugging Face Transformers. First, install the library using `pip install transformers`. Then, load a pre-trained model with `from transformers import AutoModel`. Create a simple API wrapper for your application to send prompts and receive outputs seamlessly.\"\n",
    "    },\n",
    "]\n",
    "\n",
    "\n",
    "example_prompt = PromptTemplate.from_template(\"\"\"\n",
    "User: {prompt}\n",
    "Assistant: {response}\n",
    "\"\"\")\n",
    "\n",
    "print(example_prompt.invoke(examples[7]).to_string())\n",
    "\n",
    "#for example in examples:\n",
    "    #prompt = example_prompt.format(prompt=example['prompt'], response=example['response'])\n",
    "    #print(prompt)\n"
   ]
  },
  {
   "cell_type": "code",
   "execution_count": null,
   "id": "4c740254-01b1-4b79-ac1f-05d131659583",
   "metadata": {},
   "outputs": [
    {
     "name": "stdout",
     "output_type": "stream",
     "text": [
      "APIs, or Application Programming Interfaces, are a crucial component of modern software development. In simple terms, an API is a set of defined rules that enables different applications, services, or systems to communicate with each other. This allows them to exchange data, perform specific tasks, or access specific functionality.\n",
      "\n",
      "Think of an API as a messenger between different systems. Imagine you're ordering food from your favorite restaurant using their mobile app. The app sends a request to the restaurant's system, specifying the dishes you want to order. The restaurant's system then processes the request, prepares the food, and sends a confirmation back to the app. In this scenario, the app and the restaurant's system are communicating with each other using an API.\n",
      "\n",
      "APIs can be categorized into two main types: REST (Representational State of Resource) and SOAP (Simple Object Access Protocol). REST APIs are more popular and widely used, as they are simpler and more flexible. They use HTTP requests (GET, POST, PUT, DELETE) to interact with the API, and the data is typically returned in JSON or XML format.\n",
      "\n",
      "APIs have numerous benefits, including:\n",
      "\n",
      "* Increased efficiency: By allowing different systems to communicate with each other, APIs streamline processes and reduce the need for manual intervention.\n",
      "* Improved scalability: APIs enable developers to build upon existing systems and services, making it easier to scale and maintain applications.\n",
      "* Enhanced collaboration: APIs facilitate collaboration between different teams, organizations, or even industries, enabling the sharing of data and expertise.\n",
      "\n",
      "When working with APIs, developers need to consider several key factors, such as:\n",
      "\n",
      "* Authentication and authorization: Ensuring that only authorized requests are made to the API and that sensitive data is protected.\n",
      "* Data formatting: Converting data between different formats, such as JSON to XML, to ensure seamless communication.\n",
      "* Error handling: Implementing mechanisms to handle errors and exceptions that may occur during API interactions.\n",
      "\n",
      "In summary, APIs are a fundamental concept in software development, enabling different systems to communicate and exchange data. By understanding APIs, developers can build more efficient, scalable, and collaborative applications that drive innovation and growth.\n"
     ]
    }
   ],
   "source": []
  },
  {
   "cell_type": "code",
   "execution_count": 6,
   "id": "40f41a2f-fedc-47c6-a162-60ea2dba6d6e",
   "metadata": {},
   "outputs": [
    {
     "name": "stdout",
     "output_type": "stream",
     "text": [
      "When it comes to code generation, OpenAI's GPT-4 and LLaMA-3 are two prominent models that have garnered significant attention. To provide a comprehensive understanding of their capabilities, let's dive into a comparative analysis of these models.\n",
      "\n",
      "One of the key differences between GPT-4 and LLaMA-3 lies in their performance. GPT-4 has demonstrated a stronger contextual understanding, making it better suited for complex code tasks that require multi-step logic. This is particularly evident in tasks that involve intricate problem-solving or nuanced decision-making. On the other hand, LLaMA-3 performs efficiently, but may require fine-tuning for niche or domain-specific code tasks.\n",
      "\n",
      "Another crucial aspect to consider is the cost and accessibility of these models. LLaMA-3, being open-source, offers a cost-effective solution for local deployment. This makes it an attractive option for developers who want to integrate code generation capabilities into their custom workflows without incurring significant costs. In contrast, GPT-4 is accessible via APIs, but comes with usage fees. While this may be a barrier for some developers, the high-quality output and ease of integration may be worth the investment for others.\n",
      "\n",
      "Scalability is another important consideration when evaluating these models. LLaMA-3 is well-suited for integration into custom workflows due to its flexibility, allowing developers to tailor the model to their specific needs. GPT-4, on the other hand, excels in pre-trained tasks without much customization. This makes it an excellent choice for developers who need to generate code quickly and efficiently, without requiring extensive fine-tuning.\n",
      "\n",
      "Based on these factors, it's clear that both GPT-4 and LLaMA-3 have their strengths and weaknesses. For immediate, high-quality code generation, GPT-4 is the better choice. However, if customization or cost-effectiveness is a priority, LLaMA-3 is the way to go. Ultimately, the choice between these models will depend on the specific needs and constraints of the project.\n"
     ]
    }
   ],
   "source": [
    "from langchain_core.prompts import PromptTemplate\n",
    "\n",
    "example_prompt = PromptTemplate.from_template(\"prompt: {prompt}\\n response: {response}\")\n",
    "\n",
    "filled_prompt = example_prompt.format(\n",
    "    prompt=\"How does OpenAI’s GPT-4 compare to LLaMA-3 for code generation tasks?\",\n",
    "    response='''Here’s a comparative analysis of GPT-4 and LLaMA-3 for code generation:\n",
    "\n",
    "Performance: GPT-4 demonstrates stronger contextual understanding, making it better for complex code tasks and multi-step logic. LLaMA-3 performs efficiently but may require fine-tuning for niche or domain-specific code tasks.\n",
    "Cost and Accessibility: LLaMA-3, being open-source, is cost-effective for local deployment. GPT-4 is accessible via APIs but comes with usage fees.\n",
    "Scalability: LLaMA-3 is well-suited for integration into custom workflows due to its flexibility, while GPT-4 excels in pre-trained tasks without much customization.\n",
    "Recommendation: Use GPT-4 for immediate, high-quality code generation. Opt for LLaMA-3 if customization or cost-effectiveness is a priority.'''\n",
    ")\n",
    "\n",
    "response4=chain.invoke(filled_prompt)\n",
    "print(response4.content)"
   ]
  },
  {
   "cell_type": "code",
   "execution_count": 15,
   "id": "99648fb5-5535-49ab-a4d8-88ad1c2071f4",
   "metadata": {},
   "outputs": [],
   "source": [
    "conversation_history = \"\"\n",
    "\n",
    "def get_response_with_dynamic_chain(prompt):\n",
    "    global conversation_history\n",
    "    \n",
    "    # Append the user prompt to the conversation history\n",
    "    conversation_history += f\"User: {prompt}\\n\"\n",
    "    \n",
    "    # Get the model's response\n",
    "    response = chain.invoke(conversation_history)\n",
    "    \n",
    "    # Append the model's response to the conversation history\n",
    "    conversation_history += f\"Assistant: {response.content}\\n\"\n",
    "    \n",
    "    # Optionally, you can keep updating the chain by appending further prompts\n",
    "    print(response.content)"
   ]
  },
  {
   "cell_type": "code",
   "execution_count": 16,
   "id": "cb5c82ad-eb73-428a-aadc-3a880941a18c",
   "metadata": {},
   "outputs": [
    {
     "name": "stdout",
     "output_type": "stream",
     "text": [
      "APIs, or Application Programming Interfaces, are a crucial aspect of modern software development. In simple terms, an API is a set of defined rules that enables different applications, services, or systems to communicate with each other. This allows data to be shared, processed, and utilized across different platforms, languages, and environments.\n",
      "\n",
      "APIs can be thought of as a messenger between different systems, facilitating the exchange of information in a standardized and structured manner. They provide a way for developers to access and utilize the functionality of other systems, services, or applications, without having to build everything from scratch.\n",
      "\n",
      "There are different types of APIs, including:\n",
      "\n",
      "* Web APIs: These are the most common type of API, used for web-based applications and services. They typically use protocols such as HTTP and REST (Representational State of Resource) to communicate.\n",
      "* Operating System APIs: These are used by operating systems to provide services and functionality to applications.\n",
      "* Library APIs: These are used by software libraries to provide functionality to applications.\n",
      "* Microservices APIs: These are used by microservices-based architectures to enable communication between different services.\n",
      "\n",
      "APIs can be used for a wide range of purposes, including:\n",
      "\n",
      "* Data exchange: APIs enable the exchange of data between different systems, services, or applications.\n",
      "* Service integration: APIs allow different services or applications to be integrated, enabling the creation of complex systems and workflows.\n",
      "* Automation: APIs can be used to automate repetitive tasks, workflows, and processes.\n",
      "* Innovation: APIs provide a way for developers to build new applications, services, and experiences by leveraging the functionality of existing systems and services.\n",
      "\n",
      "In the context of Generative AI, APIs can be used to access and utilize the functionality of AI models, services, and platforms. This enables developers to build applications, services, and experiences that leverage the power of AI, without having to build everything from scratch.\n",
      "\n",
      "I hope this helps! Let me know if you have any further questions or need more information.\n"
     ]
    }
   ],
   "source": [
    "get_response_with_dynamic_chain(\"what are API's\")"
   ]
  },
  {
   "cell_type": "code",
   "execution_count": 17,
   "id": "d8c82eaa-580f-426c-98dd-900f78b93ddc",
   "metadata": {},
   "outputs": [
    {
     "name": "stdout",
     "output_type": "stream",
     "text": [
      "I'd be happy to provide some examples of APIs. Here are a few:\n",
      "\n",
      "* Web APIs:\n",
      "\t+ Google Maps API: allows developers to access and utilize Google Maps' functionality, such as geocoding, routing, and mapping.\n",
      "\t+ Twitter API: enables developers to access and utilize Twitter's data, such as tweets, users, and trends.\n",
      "\t+ Facebook API: allows developers to access and utilize Facebook's data, such as user profiles, posts, and groups.\n",
      "* Operating System APIs:\n",
      "\t+ Windows API: provides a set of functions and classes that allow developers to access and utilize Windows' functionality, such as file management, graphics, and networking.\n",
      "\t+ macOS API: provides a set of functions and classes that allow developers to access and utilize macOS' functionality, such as file management, graphics, and networking.\n",
      "* Library APIs:\n",
      "\t+ TensorFlow API: provides a set of functions and classes that allow developers to access and utilize TensorFlow's machine learning functionality, such as neural networks and deep learning.\n",
      "\t+ OpenCV API: provides a set of functions and classes that allow developers to access and utilize OpenCV's computer vision functionality, such as image processing and object recognition.\n",
      "* Microservices APIs:\n",
      "\t+ Netflix API: provides a set of APIs that allow developers to access and utilize Netflix's microservices-based architecture, such as user authentication, content recommendation, and payment processing.\n",
      "\t+ Amazon API: provides a set of APIs that allow developers to access and utilize Amazon's microservices-based architecture, such as product search, order management, and inventory tracking.\n",
      "\n",
      "These are just a few examples of the many APIs available. APIs can be used for a wide range of purposes, including data exchange, service integration, automation, and innovation.\n"
     ]
    }
   ],
   "source": [
    "get_response_with_dynamic_chain(\"List Some\")"
   ]
  },
  {
   "cell_type": "code",
   "execution_count": null,
   "id": "68cbdbbb-3112-424e-b24a-bb7a188cd0b7",
   "metadata": {},
   "outputs": [],
   "source": []
  }
 ],
 "metadata": {
  "kernelspec": {
   "display_name": "Python 3 (ipykernel)",
   "language": "python",
   "name": "python3"
  },
  "language_info": {
   "codemirror_mode": {
    "name": "ipython",
    "version": 3
   },
   "file_extension": ".py",
   "mimetype": "text/x-python",
   "name": "python",
   "nbconvert_exporter": "python",
   "pygments_lexer": "ipython3",
   "version": "3.12.1"
  }
 },
 "nbformat": 4,
 "nbformat_minor": 5
}
